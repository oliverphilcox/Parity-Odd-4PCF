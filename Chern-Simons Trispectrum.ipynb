{
 "cells": [
  {
   "cell_type": "code",
   "execution_count": 1,
   "metadata": {},
   "outputs": [
    {
     "name": "stdout",
     "output_type": "stream",
     "text": [
      "Populating the interactive namespace from numpy and matplotlib\n"
     ]
    }
   ],
   "source": [
    "%pylab inline\n",
    "from classy import Class\n",
    "from scipy.interpolate import interp1d\n",
    "from scipy.integrate import simps\n",
    "from scipy.special import spherical_jn, sici\n",
    "from sympy.physics.wigner import wigner_3j\n",
    "\n",
    "# Parameters\n",
    "z = 0.57\n",
    "h = 0.68\n",
    "R_min = 20\n",
    "R_max = 160\n",
    "n_r = 10\n",
    "LMAX = 4"
   ]
  },
  {
   "cell_type": "code",
   "execution_count": 2,
   "metadata": {},
   "outputs": [
    {
     "name": "stdout",
     "output_type": "stream",
     "text": [
      "NEED TO ADD PROPER POWER SPECTRUM!\n"
     ]
    }
   ],
   "source": [
    "### Load matter power spectrum (for testing)\n",
    "print(\"NEED TO ADD PROPER POWER SPECTRUM!\")\n",
    "cosmo = Class()\n",
    "cosmo.set({'output':'mPk,mTk,tCl','z_pk':z,'h':h})\n",
    "cosmo.compute()\n",
    "\n",
    "k_arr = np.logspace(-4,2,10000)\n",
    "pk_lin_arr = np.asarray([cosmo.pk_lin(kk*h,z)*h**3. for kk in k_arr])\n",
    "\n",
    "# Load transfer functions\n",
    "T_all = cosmo.get_transfer(z,'class')\n",
    "kTk = T_all['k (h/Mpc)']\n",
    "Tk = T_all['d_tot']\n",
    "Tk_arr = interp1d(kTk,Tk)(k_arr)\n",
    "\n",
    "# Compute interpolator for curvature power spectrum and transfer function\n",
    "p_zeta = interp1d(k_arr,pk_lin_arr/Tk_arr**2.)\n",
    "M = interp1d(k_arr,Tk_arr)"
   ]
  },
  {
   "cell_type": "code",
   "execution_count": 3,
   "metadata": {},
   "outputs": [],
   "source": [
    "# Define arrays\n",
    "s_arr = np.arange(0,250,0.1)[None,:]\n",
    "x_arr = np.arange(0,250,0.1)\n",
    "k_arr = np.arange(0.001,10,0.01)[:,None]\n",
    "\n",
    "# Define bin-integrated Bessel functions\n",
    "def integ_bessel(ell,bin1,k):\n",
    "    r_min = bin1*(R_max-R_min)/n_r+R_min\n",
    "    r_max = (bin1+1.)*(R_max-R_min)/n_r+R_min\n",
    "    if ell==0:\n",
    "        tmp1 = (-k*r_max*np.cos(k*r_max)+np.sin(k*r_max))/k**3. \n",
    "        tmp2 = (-k*r_min*np.cos(k*r_min)+np.sin(k*r_min))/k**3.\n",
    "    elif ell==1:\n",
    "        tmp1 = -2.*np.cos(k*r_max)/k**3. - r_max*np.sin(k*r_max)/k**2.\n",
    "        tmp2 = -2.*np.cos(k*r_min)/k**3. - r_min*np.sin(k*r_min)/k**2.\n",
    "    elif ell==2:\n",
    "        tmp1 = (r_max*np.cos(k*r_max))/k**2 - (4*np.sin(k*r_max))/k**3 + (3*sici(k*r_max)[0])/k**3\n",
    "        tmp2 = (r_min*np.cos(k*r_min))/k**2 - (4*np.sin(k*r_min))/k**3 + (3*sici(k*r_min)[0])/k**3\n",
    "    elif ell==3:\n",
    "        tmp1 = (7.*np.cos(k*r_max))/k**3 - (15.*np.sin(k*r_max))/(k**4*r_max) + (r_max*np.sin(k*r_max))/k**2\n",
    "        # avoid zero errors!\n",
    "        if r_min==0:\n",
    "            tmp2 = -(8./k**3.)\n",
    "        else:\n",
    "            tmp2 = (7.*np.cos(k*r_min))/k**3 - (15.*np.sin(k*r_min))/(k**4*r_min) + (r_min*np.sin(k*r_min))/k**2\n",
    "    elif ell==4:\n",
    "        tmp1 = (105.*np.cos(k*r_max))/(2.*k**4*r_max) - (r_max*np.cos(k*r_max))/k**2 + (11*np.sin(k*r_max))/k**3 -(105*np.sin(k*r_max))/(2.*k**5*r_max**2) + (15*sici(k*r_max)[0])/(2.*k**3)\n",
    "        if r_min==0:\n",
    "            tmp2 = 0.\n",
    "        else:\n",
    "            tmp2 = (105.*np.cos(k*r_min))/(2.*k**4*r_min) - (r_min*np.cos(k*r_min))/k**2 + (11*np.sin(k*r_min))/k**3 -(105*np.sin(k*r_min))/(2.*k**5*r_min**2) + (15*sici(k*r_min)[0])/(2.*k**3)\n",
    "    elif ell==5:\n",
    "        tmp1 = ((315*k*r_max - 16*k**3*r_max**3)*np.cos(k*r_max) - (315 - 105*k**2*r_max**2 + k**4*r_max**4)*np.sin(k*r_max))/(k**6*r_max**3)\n",
    "        if r_min==0:\n",
    "            tmp2 = -16./k**3.\n",
    "        else:\n",
    "            tmp2 = ((315*k*r_min - 16*k**3*r_min**3)*np.cos(k*r_min) - (315 - 105*k**2*r_min**2 + k**4*r_min**4)*np.sin(k*r_min))/(k**6*r_min**3)\n",
    "    else:\n",
    "        raise Exception(\"not implemented yet!\")\n",
    "    return (tmp1-tmp2)/((r_max**3.-r_min**3.)/3.)"
   ]
  },
  {
   "cell_type": "code",
   "execution_count": 4,
   "metadata": {},
   "outputs": [
    {
     "name": "stdout",
     "output_type": "stream",
     "text": [
      "Computing j_ell(ks)\n",
      "Computing j_ell(kr)\n",
      "ell = 0\n",
      "ell = 1\n",
      "ell = 2\n",
      "ell = 3\n",
      "ell = 4\n"
     ]
    }
   ],
   "source": [
    "# Compute j_l(ks) posibilities\n",
    "jl_ks = []\n",
    "print(\"Computing j_ell(ks)\")\n",
    "for l in range(LMAX+1):\n",
    "    jl_ks.append(spherical_jn(l,k_arr*s_arr))\n",
    "    \n",
    "# Compute j_ell(kr) possibilities\n",
    "jell_kr = []\n",
    "print(\"Computing j_ell(kr)\")\n",
    "for ell in range(LMAX+1):\n",
    "    print(\"ell = %d\"%ell)\n",
    "    tmp_jell_kr = []\n",
    "    for rbin in range(n_r):\n",
    "        tmp_jell_kr.append(integ_bessel(ell,rbin,k_arr))\n",
    "    jell_kr.append(tmp_jell_kr)\n",
    "    \n",
    "# Compute Mk, P_zeta(k)\n",
    "Mk_arr = M(k_arr)\n",
    "Pzeta_arr = p_zeta(k_arr)"
   ]
  },
  {
   "cell_type": "code",
   "execution_count": 74,
   "metadata": {},
   "outputs": [],
   "source": [
    "### Compute zeta_{-1} and zeta_{-2}\n",
    "from mcfit import P2xi\n",
    "kk = np.logspace(-4,1,100000)\n",
    "zeta_neg1_int = interp1d(*P2xi(kk)(p_zeta(kk)))\n",
    "zeta_neg2_int = interp1d(*P2xi(kk)(p_zeta(kk)/kk**2.))"
   ]
  },
  {
   "cell_type": "code",
   "execution_count": 75,
   "metadata": {},
   "outputs": [
    {
     "data": {
      "text/plain": [
       "[<matplotlib.lines.Line2D at 0x2b6a40d3d210>]"
      ]
     },
     "execution_count": 75,
     "metadata": {},
     "output_type": "execute_result"
    },
    {
     "data": {
      "image/png": "[encoded data removed]",
      "text/plain": [
       "<Figure size 432x288 with 1 Axes>"
      ]
     },
     "metadata": {
      "needs_background": "light"
     },
     "output_type": "display_data"
    }
   ],
   "source": [
    "x_arr = np.arange(0.1,0.5,0.001)\n",
    "plt.plot(x_arr,zeta_neg1_int(x_arr))\n",
    "#plt.plot(x_arr,zeta_neg2_int(x_arr))"
   ]
  },
  {
   "cell_type": "code",
   "execution_count": 59,
   "metadata": {},
   "outputs": [
    {
     "data": {
      "image/png": "[encoded data removed]",
      "text/plain": [
       "<Figure size 432x288 with 1 Axes>"
      ]
     },
     "metadata": {
      "needs_background": "light"
     },
     "output_type": "display_data"
    }
   ],
   "source": [
    "plt.plot(kk,p_zeta(kk)*kk**3.)\n",
    "plt.yscale('log')"
   ]
  },
  {
   "cell_type": "code",
   "execution_count": 55,
   "metadata": {},
   "outputs": [
    {
     "data": {
      "image/png": "[encoded data removed]",
      "text/plain": [
       "<Figure size 432x288 with 1 Axes>"
      ]
     },
     "metadata": {
      "needs_background": "light"
     },
     "output_type": "display_data"
    }
   ],
   "source": [
    "plt.plot(kk,p_zeta(kk)/kk**2);\n",
    "plt.yscale('log')"
   ]
  },
  {
   "cell_type": "code",
   "execution_count": null,
   "metadata": {},
   "outputs": [],
   "source": []
  },
  {
   "cell_type": "code",
   "execution_count": null,
   "metadata": {},
   "outputs": [],
   "source": []
  },
  {
   "cell_type": "markdown",
   "metadata": {},
   "source": [
    "#### Compute Q arrays"
   ]
  },
  {
   "cell_type": "code",
   "execution_count": null,
   "metadata": {},
   "outputs": [],
   "source": [
    "def compute_Q3(ell,l,rbin):\n",
    "    return simps(k_arr**2.*jl_ks[l]*Mk*Pzeta_arr*jell_kr[ell][rbin],k_arr,axis=0)/(2.*np.pi**2.)*(-1.)**l\n",
    "\n",
    "def compute_Q4(ell,l,rbin):\n",
    "    return simps(k_arr**2.*jl_ks[l]*Mk*jell_kr[ell][rbin],k_arr,axis=0)/(2.*np.pi**2.)*(-1.)**l"
   ]
  },
  {
   "cell_type": "code",
   "execution_count": null,
   "metadata": {},
   "outputs": [],
   "source": []
  },
  {
   "cell_type": "code",
   "execution_count": null,
   "metadata": {},
   "outputs": [],
   "source": [
    "# Compute all Q integrals\n",
    "Q3 = []\n",
    "Q4 = []\n",
    "\n",
    "for rbin in range(n_r):\n",
    "    print(\"On r-bin %d of %d\"%(rbin,n_r))\n",
    "    Q3ii = []\n",
    "    Q4ii = []\n",
    "    for ell in range(LMAX+1):\n",
    "        Q3i = []\n",
    "        Q4i = []\n",
    "        for l in range(LMAX+1):\n",
    "            Q3i.append(compute_Q3(ell,l,rbin))\n",
    "            Q4i.append(compute_Q4(ell,l,rbin))\n",
    "        Q3ii.append(Q3i)\n",
    "        Q4ii.append(Q4ii)\n",
    "    Q3.append(Q3ii)\n",
    "    Q4.append(Q4ii)"
   ]
  },
  {
   "cell_type": "code",
   "execution_count": null,
   "metadata": {},
   "outputs": [],
   "source": []
  },
  {
   "cell_type": "code",
   "execution_count": null,
   "metadata": {},
   "outputs": [],
   "source": []
  },
  {
   "cell_type": "code",
   "execution_count": null,
   "metadata": {},
   "outputs": [],
   "source": []
  },
  {
   "cell_type": "code",
   "execution_count": null,
   "metadata": {},
   "outputs": [],
   "source": [
    "plt.plot(Q4[0][2][2])\n",
    "plt.plot(Q4[1][1][6])"
   ]
  },
  {
   "cell_type": "code",
   "execution_count": null,
   "metadata": {},
   "outputs": [],
   "source": []
  }
 ],
 "metadata": {
  "kernelspec": {
   "display_name": "Python 2",
   "language": "python",
   "name": "python2"
  }
 },
 "nbformat": 4,
 "nbformat_minor": 2
}
